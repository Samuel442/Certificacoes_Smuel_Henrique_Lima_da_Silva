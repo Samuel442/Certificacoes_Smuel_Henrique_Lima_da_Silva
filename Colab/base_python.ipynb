{
  "nbformat": 4,
  "nbformat_minor": 0,
  "metadata": {
    "colab": {
      "provenance": [],
      "authorship_tag": "ABX9TyN5a/6xbQP9EIpfn4z9M1VQ",
      "include_colab_link": true
    },
    "kernelspec": {
      "name": "python3",
      "display_name": "Python 3"
    },
    "language_info": {
      "name": "python"
    }
  },
  "cells": [
    {
      "cell_type": "markdown",
      "metadata": {
        "id": "view-in-github",
        "colab_type": "text"
      },
      "source": [
        "<a href=\"https://colab.research.google.com/github/Samuel442/Certificacoes_Smuel_Henrique_Lima_da_Silva/blob/main/Colab/base_python.ipynb\" target=\"_parent\"><img src=\"https://colab.research.google.com/assets/colab-badge.svg\" alt=\"Open In Colab\"/></a>"
      ]
    },
    {
      "cell_type": "code",
      "execution_count": 1,
      "metadata": {
        "id": "YCuFG1A5DMh3"
      },
      "outputs": [],
      "source": [
        "# Início com python"
      ]
    },
    {
      "cell_type": "code",
      "source": [],
      "metadata": {
        "id": "N1swRwgMDbbA"
      },
      "execution_count": null,
      "outputs": []
    }
  ]
}